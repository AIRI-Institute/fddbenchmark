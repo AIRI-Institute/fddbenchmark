{
  "cells": [
    {
      "cell_type": "markdown",
      "id": "fRHUHOhTFOVu",
      "metadata": {
        "id": "fRHUHOhTFOVu"
      },
      "source": [
        "# Tutorial: FDDBenchmark"
      ]
    },
    {
      "cell_type": "markdown",
      "id": "8YnkSNkC80iz",
      "metadata": {
        "id": "8YnkSNkC80iz"
      },
      "source": [
        "Fault detection and diagnosis (FDD) tasks are highly important in process monitoring to prevent failures and reduce equipment downtime, for example, in the chemical industry.\n",
        "\n",
        "* **Fault detection** is used to define whether a fault has occurred​ (binary classification).\n",
        "* **Fault diagnosis** aims to determine types of faults​ (milticlass classification).\n",
        "\n",
        "Fault detection and diagnosis (FDD) benchmark aims to make processes of training and testing ML models simple and clear, as well as fast and cheap in memory. The benchmark consists of 3 objects: `FDDDataset`, `FDDDataloader`, `FDDEvaluator`."
      ]
    },
    {
      "attachments": {},
      "cell_type": "markdown",
      "id": "M5JPM37BzW7-",
      "metadata": {
        "id": "M5JPM37BzW7-"
      },
      "source": [
        "<img src='https://github.com/airi-industrial-ai/fddbenchmark/raw/main/tutorial/fddbench_overview.png' width=600>"
      ]
    },
    {
      "cell_type": "markdown",
      "id": "zv_mZ7ZsNC-p",
      "metadata": {
        "id": "zv_mZ7ZsNC-p"
      },
      "source": [
        "This tutorial describes an example of training and testing procedures, then proposes short templates for external usage."
      ]
    },
    {
      "cell_type": "markdown",
      "id": "AuZt700AyJVz",
      "metadata": {
        "id": "AuZt700AyJVz"
      },
      "source": [
        "### Part 1. Training procedure"
      ]
    },
    {
      "cell_type": "code",
      "execution_count": 25,
      "id": "ZR8TX7pQaa7Z",
      "metadata": {
        "colab": {
          "base_uri": "https://localhost:8080/"
        },
        "id": "ZR8TX7pQaa7Z",
        "outputId": "b1a3100f-90df-4549-e001-e97389170cf2"
      },
      "outputs": [
        {
          "name": "stdout",
          "output_type": "stream",
          "text": [
            "Looking in indexes: https://pypi.org/simple, https://us-python.pkg.dev/colab-wheels/public/simple/\n",
            "Collecting git+https://github.com/airi-industrial-ai/fddbenchmark\n",
            "  Cloning https://github.com/airi-industrial-ai/fddbenchmark to /tmp/pip-req-build-uxx20xyt\n",
            "  Running command git clone --filter=blob:none --quiet https://github.com/airi-industrial-ai/fddbenchmark /tmp/pip-req-build-uxx20xyt\n",
            "  Resolved https://github.com/airi-industrial-ai/fddbenchmark to commit 1e5b5fa4692d09d5f2c660457558329c2d19c094\n",
            "  Preparing metadata (setup.py) ... \u001b[?25l\u001b[?25hdone\n",
            "Requirement already satisfied: numpy>=1.22 in /usr/local/lib/python3.9/dist-packages (from fddbenchmark==0.0.1) (1.22.4)\n",
            "Requirement already satisfied: pandas>=1.3 in /usr/local/lib/python3.9/dist-packages (from fddbenchmark==0.0.1) (1.3.5)\n",
            "Requirement already satisfied: scikit-learn>=1.2 in /usr/local/lib/python3.9/dist-packages (from fddbenchmark==0.0.1) (1.2.1)\n",
            "Requirement already satisfied: tqdm>=4.65 in /usr/local/lib/python3.9/dist-packages (from fddbenchmark==0.0.1) (4.65.0)\n",
            "Requirement already satisfied: pytz>=2017.3 in /usr/local/lib/python3.9/dist-packages (from pandas>=1.3->fddbenchmark==0.0.1) (2022.7.1)\n",
            "Requirement already satisfied: python-dateutil>=2.7.3 in /usr/local/lib/python3.9/dist-packages (from pandas>=1.3->fddbenchmark==0.0.1) (2.8.2)\n",
            "Requirement already satisfied: threadpoolctl>=2.0.0 in /usr/local/lib/python3.9/dist-packages (from scikit-learn>=1.2->fddbenchmark==0.0.1) (3.1.0)\n",
            "Requirement already satisfied: joblib>=1.1.1 in /usr/local/lib/python3.9/dist-packages (from scikit-learn>=1.2->fddbenchmark==0.0.1) (1.2.0)\n",
            "Requirement already satisfied: scipy>=1.3.2 in /usr/local/lib/python3.9/dist-packages (from scikit-learn>=1.2->fddbenchmark==0.0.1) (1.10.1)\n",
            "Requirement already satisfied: six>=1.5 in /usr/local/lib/python3.9/dist-packages (from python-dateutil>=2.7.3->pandas>=1.3->fddbenchmark==0.0.1) (1.15.0)\n"
          ]
        }
      ],
      "source": [
        "!pip install git+https://github.com/airi-industrial-ai/fddbenchmark"
      ]
    },
    {
      "cell_type": "code",
      "execution_count": 26,
      "id": "712515fa",
      "metadata": {
        "id": "712515fa"
      },
      "outputs": [],
      "source": [
        "import numpy as np\n",
        "import pandas as pd\n",
        "from sklearn.ensemble import GradientBoostingClassifier\n",
        "from sklearn.preprocessing import StandardScaler\n",
        "from sklearn.decomposition import PCA\n",
        "from sklearn.pipeline import make_pipeline\n",
        "from fddbenchmark import FDDDataset, FDDDataloader, FDDEvaluator"
      ]
    },
    {
      "cell_type": "markdown",
      "id": "zd6fR8FV7Jyl",
      "metadata": {
        "id": "zd6fR8FV7Jyl"
      },
      "source": [
        "Properties of FDDDataset:\n",
        "* `df` — pandas dataframe, timeseries with indices: `run_id` defines a run of the process, `step` defines a sequence of rows, the larger the later\n",
        "* `labels` — pandas series, a class of faults, 0 is the normal behaviour, the same indices as in `df`\n",
        "* `train_mask` — pandas series, a mask of train data\n",
        "* `test_mask` — pandas series, a mask of test data\n",
        "\n",
        "The `small_tep` dataset is based on [Additional Tennessee Eastman Process Simulation Data](https://doi.org/10.7910/DVN/6C3JR1). The dataset contains only a few simulation runs for each fault type."
      ]
    },
    {
      "cell_type": "code",
      "execution_count": 27,
      "id": "1c0e7265",
      "metadata": {
        "colab": {
          "base_uri": "https://localhost:8080/",
          "height": 402
        },
        "id": "1c0e7265",
        "outputId": "88324f9a-06a0-437c-fca1-bd86eaac5d25"
      },
      "outputs": [
        {
          "name": "stderr",
          "output_type": "stream",
          "text": [
            "Reading data/small_tep/dataset.csv: 100%|██████████| 153300/153300 [00:00<00:00, 164709.40it/s]\n",
            "Reading data/small_tep/labels.csv: 100%|██████████| 153300/153300 [00:00<00:00, 2444333.45it/s]\n",
            "Reading data/small_tep/train_mask.csv: 100%|██████████| 153300/153300 [00:00<00:00, 2319937.09it/s]\n",
            "Reading data/small_tep/test_mask.csv: 100%|██████████| 153300/153300 [00:00<00:00, 2453174.32it/s]\n"
          ]
        },
        {
          "data": {
            "text/html": [
              "\n",
              "  <div id=\"df-a0abfbea-9de4-485a-abc1-a032f691255d\">\n",
              "    <div class=\"colab-df-container\">\n",
              "      <div>\n",
              "<style scoped>\n",
              "    .dataframe tbody tr th:only-of-type {\n",
              "        vertical-align: middle;\n",
              "    }\n",
              "\n",
              "    .dataframe tbody tr th {\n",
              "        vertical-align: top;\n",
              "    }\n",
              "\n",
              "    .dataframe thead th {\n",
              "        text-align: right;\n",
              "    }\n",
              "</style>\n",
              "<table border=\"1\" class=\"dataframe\">\n",
              "  <thead>\n",
              "    <tr style=\"text-align: right;\">\n",
              "      <th></th>\n",
              "      <th></th>\n",
              "      <th>xmeas_1</th>\n",
              "      <th>xmeas_2</th>\n",
              "      <th>xmeas_3</th>\n",
              "      <th>xmeas_4</th>\n",
              "      <th>xmeas_5</th>\n",
              "      <th>xmeas_6</th>\n",
              "      <th>xmeas_7</th>\n",
              "      <th>xmeas_8</th>\n",
              "      <th>xmeas_9</th>\n",
              "      <th>xmeas_10</th>\n",
              "      <th>...</th>\n",
              "      <th>xmv_2</th>\n",
              "      <th>xmv_3</th>\n",
              "      <th>xmv_4</th>\n",
              "      <th>xmv_5</th>\n",
              "      <th>xmv_6</th>\n",
              "      <th>xmv_7</th>\n",
              "      <th>xmv_8</th>\n",
              "      <th>xmv_9</th>\n",
              "      <th>xmv_10</th>\n",
              "      <th>xmv_11</th>\n",
              "    </tr>\n",
              "    <tr>\n",
              "      <th>run_id</th>\n",
              "      <th>sample</th>\n",
              "      <th></th>\n",
              "      <th></th>\n",
              "      <th></th>\n",
              "      <th></th>\n",
              "      <th></th>\n",
              "      <th></th>\n",
              "      <th></th>\n",
              "      <th></th>\n",
              "      <th></th>\n",
              "      <th></th>\n",
              "      <th></th>\n",
              "      <th></th>\n",
              "      <th></th>\n",
              "      <th></th>\n",
              "      <th></th>\n",
              "      <th></th>\n",
              "      <th></th>\n",
              "      <th></th>\n",
              "      <th></th>\n",
              "      <th></th>\n",
              "      <th></th>\n",
              "    </tr>\n",
              "  </thead>\n",
              "  <tbody>\n",
              "    <tr>\n",
              "      <th rowspan=\"5\" valign=\"top\">413402073</th>\n",
              "      <th>1</th>\n",
              "      <td>0.25038</td>\n",
              "      <td>3674.0</td>\n",
              "      <td>4529.0</td>\n",
              "      <td>9.2320</td>\n",
              "      <td>26.889</td>\n",
              "      <td>42.402</td>\n",
              "      <td>2704.3</td>\n",
              "      <td>74.863</td>\n",
              "      <td>120.41</td>\n",
              "      <td>0.33818</td>\n",
              "      <td>...</td>\n",
              "      <td>53.744</td>\n",
              "      <td>24.657</td>\n",
              "      <td>62.544</td>\n",
              "      <td>22.137</td>\n",
              "      <td>39.935</td>\n",
              "      <td>42.323</td>\n",
              "      <td>47.757</td>\n",
              "      <td>47.510</td>\n",
              "      <td>41.258</td>\n",
              "      <td>18.447</td>\n",
              "    </tr>\n",
              "    <tr>\n",
              "      <th>2</th>\n",
              "      <td>0.25109</td>\n",
              "      <td>3659.4</td>\n",
              "      <td>4556.6</td>\n",
              "      <td>9.4264</td>\n",
              "      <td>26.721</td>\n",
              "      <td>42.576</td>\n",
              "      <td>2705.0</td>\n",
              "      <td>75.000</td>\n",
              "      <td>120.41</td>\n",
              "      <td>0.33620</td>\n",
              "      <td>...</td>\n",
              "      <td>53.414</td>\n",
              "      <td>24.588</td>\n",
              "      <td>59.259</td>\n",
              "      <td>22.084</td>\n",
              "      <td>40.176</td>\n",
              "      <td>38.554</td>\n",
              "      <td>43.692</td>\n",
              "      <td>47.427</td>\n",
              "      <td>41.359</td>\n",
              "      <td>17.194</td>\n",
              "    </tr>\n",
              "    <tr>\n",
              "      <th>3</th>\n",
              "      <td>0.25038</td>\n",
              "      <td>3660.3</td>\n",
              "      <td>4477.8</td>\n",
              "      <td>9.4426</td>\n",
              "      <td>26.875</td>\n",
              "      <td>42.070</td>\n",
              "      <td>2706.2</td>\n",
              "      <td>74.771</td>\n",
              "      <td>120.42</td>\n",
              "      <td>0.33563</td>\n",
              "      <td>...</td>\n",
              "      <td>54.357</td>\n",
              "      <td>24.666</td>\n",
              "      <td>61.275</td>\n",
              "      <td>22.380</td>\n",
              "      <td>40.244</td>\n",
              "      <td>38.990</td>\n",
              "      <td>46.699</td>\n",
              "      <td>47.468</td>\n",
              "      <td>41.199</td>\n",
              "      <td>20.530</td>\n",
              "    </tr>\n",
              "    <tr>\n",
              "      <th>4</th>\n",
              "      <td>0.24977</td>\n",
              "      <td>3661.3</td>\n",
              "      <td>4512.1</td>\n",
              "      <td>9.4776</td>\n",
              "      <td>26.758</td>\n",
              "      <td>42.063</td>\n",
              "      <td>2707.2</td>\n",
              "      <td>75.224</td>\n",
              "      <td>120.39</td>\n",
              "      <td>0.33553</td>\n",
              "      <td>...</td>\n",
              "      <td>53.946</td>\n",
              "      <td>24.725</td>\n",
              "      <td>59.856</td>\n",
              "      <td>22.277</td>\n",
              "      <td>40.257</td>\n",
              "      <td>38.072</td>\n",
              "      <td>47.541</td>\n",
              "      <td>47.658</td>\n",
              "      <td>41.643</td>\n",
              "      <td>18.089</td>\n",
              "    </tr>\n",
              "    <tr>\n",
              "      <th>5</th>\n",
              "      <td>0.29405</td>\n",
              "      <td>3679.0</td>\n",
              "      <td>4497.0</td>\n",
              "      <td>9.3381</td>\n",
              "      <td>26.889</td>\n",
              "      <td>42.650</td>\n",
              "      <td>2705.1</td>\n",
              "      <td>75.388</td>\n",
              "      <td>120.39</td>\n",
              "      <td>0.32632</td>\n",
              "      <td>...</td>\n",
              "      <td>53.658</td>\n",
              "      <td>28.797</td>\n",
              "      <td>60.717</td>\n",
              "      <td>21.947</td>\n",
              "      <td>39.144</td>\n",
              "      <td>41.955</td>\n",
              "      <td>47.645</td>\n",
              "      <td>47.346</td>\n",
              "      <td>41.507</td>\n",
              "      <td>18.461</td>\n",
              "    </tr>\n",
              "  </tbody>\n",
              "</table>\n",
              "<p>5 rows × 52 columns</p>\n",
              "</div>\n",
              "      <button class=\"colab-df-convert\" onclick=\"convertToInteractive('df-a0abfbea-9de4-485a-abc1-a032f691255d')\"\n",
              "              title=\"Convert this dataframe to an interactive table.\"\n",
              "              style=\"display:none;\">\n",
              "        \n",
              "  <svg xmlns=\"http://www.w3.org/2000/svg\" height=\"24px\"viewBox=\"0 0 24 24\"\n",
              "       width=\"24px\">\n",
              "    <path d=\"M0 0h24v24H0V0z\" fill=\"none\"/>\n",
              "    <path d=\"M18.56 5.44l.94 2.06.94-2.06 2.06-.94-2.06-.94-.94-2.06-.94 2.06-2.06.94zm-11 1L8.5 8.5l.94-2.06 2.06-.94-2.06-.94L8.5 2.5l-.94 2.06-2.06.94zm10 10l.94 2.06.94-2.06 2.06-.94-2.06-.94-.94-2.06-.94 2.06-2.06.94z\"/><path d=\"M17.41 7.96l-1.37-1.37c-.4-.4-.92-.59-1.43-.59-.52 0-1.04.2-1.43.59L10.3 9.45l-7.72 7.72c-.78.78-.78 2.05 0 2.83L4 21.41c.39.39.9.59 1.41.59.51 0 1.02-.2 1.41-.59l7.78-7.78 2.81-2.81c.8-.78.8-2.07 0-2.86zM5.41 20L4 18.59l7.72-7.72 1.47 1.35L5.41 20z\"/>\n",
              "  </svg>\n",
              "      </button>\n",
              "      \n",
              "  <style>\n",
              "    .colab-df-container {\n",
              "      display:flex;\n",
              "      flex-wrap:wrap;\n",
              "      gap: 12px;\n",
              "    }\n",
              "\n",
              "    .colab-df-convert {\n",
              "      background-color: #E8F0FE;\n",
              "      border: none;\n",
              "      border-radius: 50%;\n",
              "      cursor: pointer;\n",
              "      display: none;\n",
              "      fill: #1967D2;\n",
              "      height: 32px;\n",
              "      padding: 0 0 0 0;\n",
              "      width: 32px;\n",
              "    }\n",
              "\n",
              "    .colab-df-convert:hover {\n",
              "      background-color: #E2EBFA;\n",
              "      box-shadow: 0px 1px 2px rgba(60, 64, 67, 0.3), 0px 1px 3px 1px rgba(60, 64, 67, 0.15);\n",
              "      fill: #174EA6;\n",
              "    }\n",
              "\n",
              "    [theme=dark] .colab-df-convert {\n",
              "      background-color: #3B4455;\n",
              "      fill: #D2E3FC;\n",
              "    }\n",
              "\n",
              "    [theme=dark] .colab-df-convert:hover {\n",
              "      background-color: #434B5C;\n",
              "      box-shadow: 0px 1px 3px 1px rgba(0, 0, 0, 0.15);\n",
              "      filter: drop-shadow(0px 1px 2px rgba(0, 0, 0, 0.3));\n",
              "      fill: #FFFFFF;\n",
              "    }\n",
              "  </style>\n",
              "\n",
              "      <script>\n",
              "        const buttonEl =\n",
              "          document.querySelector('#df-a0abfbea-9de4-485a-abc1-a032f691255d button.colab-df-convert');\n",
              "        buttonEl.style.display =\n",
              "          google.colab.kernel.accessAllowed ? 'block' : 'none';\n",
              "\n",
              "        async function convertToInteractive(key) {\n",
              "          const element = document.querySelector('#df-a0abfbea-9de4-485a-abc1-a032f691255d');\n",
              "          const dataTable =\n",
              "            await google.colab.kernel.invokeFunction('convertToInteractive',\n",
              "                                                     [key], {});\n",
              "          if (!dataTable) return;\n",
              "\n",
              "          const docLinkHtml = 'Like what you see? Visit the ' +\n",
              "            '<a target=\"_blank\" href=https://colab.research.google.com/notebooks/data_table.ipynb>data table notebook</a>'\n",
              "            + ' to learn more about interactive tables.';\n",
              "          element.innerHTML = '';\n",
              "          dataTable['output_type'] = 'display_data';\n",
              "          await google.colab.output.renderOutput(dataTable, element);\n",
              "          const docLink = document.createElement('div');\n",
              "          docLink.innerHTML = docLinkHtml;\n",
              "          element.appendChild(docLink);\n",
              "        }\n",
              "      </script>\n",
              "    </div>\n",
              "  </div>\n",
              "  "
            ],
            "text/plain": [
              "                  xmeas_1  xmeas_2  xmeas_3  xmeas_4  xmeas_5  xmeas_6  \\\n",
              "run_id    sample                                                         \n",
              "413402073 1       0.25038   3674.0   4529.0   9.2320   26.889   42.402   \n",
              "          2       0.25109   3659.4   4556.6   9.4264   26.721   42.576   \n",
              "          3       0.25038   3660.3   4477.8   9.4426   26.875   42.070   \n",
              "          4       0.24977   3661.3   4512.1   9.4776   26.758   42.063   \n",
              "          5       0.29405   3679.0   4497.0   9.3381   26.889   42.650   \n",
              "\n",
              "                  xmeas_7  xmeas_8  xmeas_9  xmeas_10  ...   xmv_2   xmv_3  \\\n",
              "run_id    sample                                       ...                   \n",
              "413402073 1        2704.3   74.863   120.41   0.33818  ...  53.744  24.657   \n",
              "          2        2705.0   75.000   120.41   0.33620  ...  53.414  24.588   \n",
              "          3        2706.2   74.771   120.42   0.33563  ...  54.357  24.666   \n",
              "          4        2707.2   75.224   120.39   0.33553  ...  53.946  24.725   \n",
              "          5        2705.1   75.388   120.39   0.32632  ...  53.658  28.797   \n",
              "\n",
              "                   xmv_4   xmv_5   xmv_6   xmv_7   xmv_8   xmv_9  xmv_10  \\\n",
              "run_id    sample                                                           \n",
              "413402073 1       62.544  22.137  39.935  42.323  47.757  47.510  41.258   \n",
              "          2       59.259  22.084  40.176  38.554  43.692  47.427  41.359   \n",
              "          3       61.275  22.380  40.244  38.990  46.699  47.468  41.199   \n",
              "          4       59.856  22.277  40.257  38.072  47.541  47.658  41.643   \n",
              "          5       60.717  21.947  39.144  41.955  47.645  47.346  41.507   \n",
              "\n",
              "                  xmv_11  \n",
              "run_id    sample          \n",
              "413402073 1       18.447  \n",
              "          2       17.194  \n",
              "          3       20.530  \n",
              "          4       18.089  \n",
              "          5       18.461  \n",
              "\n",
              "[5 rows x 52 columns]"
            ]
          },
          "execution_count": 27,
          "metadata": {},
          "output_type": "execute_result"
        }
      ],
      "source": [
        "small_tep = FDDDataset(name='small_tep')\n",
        "small_tep.df.head()"
      ]
    },
    {
      "cell_type": "code",
      "execution_count": 28,
      "id": "QlByfyza-27D",
      "metadata": {
        "colab": {
          "base_uri": "https://localhost:8080/"
        },
        "id": "QlByfyza-27D",
        "outputId": "40a2b46a-645f-4d27-96de-1793cb312ba7"
      },
      "outputs": [
        {
          "data": {
            "text/plain": [
              "run_id     sample\n",
              "413402073  1         0\n",
              "           2         0\n",
              "           3         0\n",
              "           4         0\n",
              "           5         0\n",
              "Name: labels, dtype: int64"
            ]
          },
          "execution_count": 28,
          "metadata": {},
          "output_type": "execute_result"
        }
      ],
      "source": [
        "small_tep.labels.head()"
      ]
    },
    {
      "cell_type": "markdown",
      "id": "7ZrSp1HD-nm1",
      "metadata": {
        "id": "7ZrSp1HD-nm1"
      },
      "source": [
        "`FDDDataloader` is an iterator that dynamically slices a dataset into batches of samples of the fixed length (window size) using the fixed step size. For example:"
      ]
    },
    {
      "cell_type": "markdown",
      "id": "2dbDMeUsHnqA",
      "metadata": {
        "id": "2dbDMeUsHnqA"
      },
      "source": [
        "<img src='https://github.com/airi-industrial-ai/fddbenchmark/raw/main/tutorial/window_step_size.png' width=1000>"
      ]
    },
    {
      "cell_type": "markdown",
      "id": "KR6LIqoIJ0iI",
      "metadata": {
        "id": "KR6LIqoIJ0iI"
      },
      "source": [
        "Labels are not sliced, instead they are reduced: if at least a single time stamp in a sample is fault then the entire sample is fault. The iterator consists of tuples:\n",
        "* `ts` — numpy array, samples of the shape \"batch size\" X \"window size\" X \"time series dimensionality\"\n",
        "* `index` — pandas index, defines the ordering of samples in `ts`\n",
        "* `label` — pandas series, label of samples\n",
        "\n",
        "Let us create a dataloader that iterates over train set. The dataloader allows to iterate by mini-batches and also by a single batch. We set `minibatch_training` is false, then the dataloader contains a single batch and we can break a loop after the first iteration."
      ]
    },
    {
      "cell_type": "code",
      "execution_count": 29,
      "id": "lMijjqgsCUEl",
      "metadata": {
        "colab": {
          "base_uri": "https://localhost:8080/"
        },
        "id": "lMijjqgsCUEl",
        "outputId": "46e99bfb-b4df-421d-d96d-aa8097dbe962"
      },
      "outputs": [
        {
          "name": "stderr",
          "output_type": "stream",
          "text": [
            "Creating sequence of samples: 100%|██████████| 105/105 [00:00<00:00, 647.97it/s]\n"
          ]
        },
        {
          "data": {
            "text/plain": [
              "((10290, 10, 52), (10290,), (10290,))"
            ]
          },
          "execution_count": 29,
          "metadata": {},
          "output_type": "execute_result"
        }
      ],
      "source": [
        "train_dl = FDDDataloader(\n",
        "    dataframe=small_tep.df,\n",
        "    labels=small_tep.labels,\n",
        "    mask=small_tep.train_mask,\n",
        "    window_size=10,\n",
        "    step_size=5,\n",
        "    minibatch_training=False,\n",
        ")\n",
        "\n",
        "for train_ts, train_index, train_label in train_dl:\n",
        "    break\n",
        "train_ts.shape, train_index.shape, train_label.shape"
      ]
    },
    {
      "cell_type": "markdown",
      "id": "pjIiO4YlB1tf",
      "metadata": {
        "id": "pjIiO4YlB1tf"
      },
      "source": [
        "In this setting, each sample is a matrix of the shape \"window size\" X \"time series dimensionality\", but we will train the model that takes a vectors, not matrices. Let us reshape samples to the vector form."
      ]
    },
    {
      "cell_type": "code",
      "execution_count": 30,
      "id": "1ToRcakpGR6n",
      "metadata": {
        "colab": {
          "base_uri": "https://localhost:8080/"
        },
        "id": "1ToRcakpGR6n",
        "outputId": "5b4aa423-dc40-4e76-8b3d-0695bfb3a134"
      },
      "outputs": [
        {
          "data": {
            "text/plain": [
              "(10290, 520)"
            ]
          },
          "execution_count": 30,
          "metadata": {},
          "output_type": "execute_result"
        }
      ],
      "source": [
        "v_train_ts = train_ts.reshape(train_ts.shape[0], -1)\n",
        "v_train_ts.shape"
      ]
    },
    {
      "cell_type": "markdown",
      "id": "C2vTOdnvCZyR",
      "metadata": {
        "id": "C2vTOdnvCZyR"
      },
      "source": [
        "Train a simple model based on PCA and gradient boosting classifier. We reweight samples to balance normal and faulty classes."
      ]
    },
    {
      "cell_type": "code",
      "execution_count": 31,
      "id": "ccTK84qVsMGV",
      "metadata": {
        "colab": {
          "base_uri": "https://localhost:8080/",
          "height": 518
        },
        "id": "ccTK84qVsMGV",
        "outputId": "1a124362-6c5c-4343-9273-ab8efbd8e331"
      },
      "outputs": [
        {
          "name": "stdout",
          "output_type": "stream",
          "text": [
            "      Iter       Train Loss   Remaining Time \n",
            "         1           1.6199            4.94m\n",
            "         2           1.5244            5.57m\n",
            "         3           1.4556            5.56m\n",
            "         4           1.3985            6.16m\n",
            "         5           1.3491            6.96m\n",
            "         6           1.3078            7.06m\n",
            "         7           1.2698            6.67m\n",
            "         8           1.2359            6.42m\n",
            "         9           1.2057            6.12m\n",
            "        10           1.1799            5.87m\n",
            "        20           0.9978            4.62m\n",
            "        30           0.8886            3.86m\n",
            "        40           0.8207            3.27m\n",
            "        50           0.7600            2.79m\n",
            "        60           0.7152            2.20m\n",
            "        70           0.6770            1.63m\n",
            "        80           0.6445            1.07m\n",
            "        90           0.6149           32.03s\n",
            "       100           0.5862            0.00s\n"
          ]
        },
        {
          "data": {
            "text/html": [
              "<style>#sk-container-id-2 {color: black;background-color: white;}#sk-container-id-2 pre{padding: 0;}#sk-container-id-2 div.sk-toggleable {background-color: white;}#sk-container-id-2 label.sk-toggleable__label {cursor: pointer;display: block;width: 100%;margin-bottom: 0;padding: 0.3em;box-sizing: border-box;text-align: center;}#sk-container-id-2 label.sk-toggleable__label-arrow:before {content: \"▸\";float: left;margin-right: 0.25em;color: #696969;}#sk-container-id-2 label.sk-toggleable__label-arrow:hover:before {color: black;}#sk-container-id-2 div.sk-estimator:hover label.sk-toggleable__label-arrow:before {color: black;}#sk-container-id-2 div.sk-toggleable__content {max-height: 0;max-width: 0;overflow: hidden;text-align: left;background-color: #f0f8ff;}#sk-container-id-2 div.sk-toggleable__content pre {margin: 0.2em;color: black;border-radius: 0.25em;background-color: #f0f8ff;}#sk-container-id-2 input.sk-toggleable__control:checked~div.sk-toggleable__content {max-height: 200px;max-width: 100%;overflow: auto;}#sk-container-id-2 input.sk-toggleable__control:checked~label.sk-toggleable__label-arrow:before {content: \"▾\";}#sk-container-id-2 div.sk-estimator input.sk-toggleable__control:checked~label.sk-toggleable__label {background-color: #d4ebff;}#sk-container-id-2 div.sk-label input.sk-toggleable__control:checked~label.sk-toggleable__label {background-color: #d4ebff;}#sk-container-id-2 input.sk-hidden--visually {border: 0;clip: rect(1px 1px 1px 1px);clip: rect(1px, 1px, 1px, 1px);height: 1px;margin: -1px;overflow: hidden;padding: 0;position: absolute;width: 1px;}#sk-container-id-2 div.sk-estimator {font-family: monospace;background-color: #f0f8ff;border: 1px dotted black;border-radius: 0.25em;box-sizing: border-box;margin-bottom: 0.5em;}#sk-container-id-2 div.sk-estimator:hover {background-color: #d4ebff;}#sk-container-id-2 div.sk-parallel-item::after {content: \"\";width: 100%;border-bottom: 1px solid gray;flex-grow: 1;}#sk-container-id-2 div.sk-label:hover label.sk-toggleable__label {background-color: #d4ebff;}#sk-container-id-2 div.sk-serial::before {content: \"\";position: absolute;border-left: 1px solid gray;box-sizing: border-box;top: 0;bottom: 0;left: 50%;z-index: 0;}#sk-container-id-2 div.sk-serial {display: flex;flex-direction: column;align-items: center;background-color: white;padding-right: 0.2em;padding-left: 0.2em;position: relative;}#sk-container-id-2 div.sk-item {position: relative;z-index: 1;}#sk-container-id-2 div.sk-parallel {display: flex;align-items: stretch;justify-content: center;background-color: white;position: relative;}#sk-container-id-2 div.sk-item::before, #sk-container-id-2 div.sk-parallel-item::before {content: \"\";position: absolute;border-left: 1px solid gray;box-sizing: border-box;top: 0;bottom: 0;left: 50%;z-index: -1;}#sk-container-id-2 div.sk-parallel-item {display: flex;flex-direction: column;z-index: 1;position: relative;background-color: white;}#sk-container-id-2 div.sk-parallel-item:first-child::after {align-self: flex-end;width: 50%;}#sk-container-id-2 div.sk-parallel-item:last-child::after {align-self: flex-start;width: 50%;}#sk-container-id-2 div.sk-parallel-item:only-child::after {width: 0;}#sk-container-id-2 div.sk-dashed-wrapped {border: 1px dashed gray;margin: 0 0.4em 0.5em 0.4em;box-sizing: border-box;padding-bottom: 0.4em;background-color: white;}#sk-container-id-2 div.sk-label label {font-family: monospace;font-weight: bold;display: inline-block;line-height: 1.2em;}#sk-container-id-2 div.sk-label-container {text-align: center;}#sk-container-id-2 div.sk-container {/* jupyter's `normalize.less` sets `[hidden] { display: none; }` but bootstrap.min.css set `[hidden] { display: none !important; }` so we also need the `!important` here to be able to override the default hidden behavior on the sphinx rendered scikit-learn.org. See: https://github.com/scikit-learn/scikit-learn/issues/21755 */display: inline-block !important;position: relative;}#sk-container-id-2 div.sk-text-repr-fallback {display: none;}</style><div id=\"sk-container-id-2\" class=\"sk-top-container\"><div class=\"sk-text-repr-fallback\"><pre>Pipeline(steps=[(&#x27;standardscaler&#x27;, StandardScaler()),\n",
              "                (&#x27;pca&#x27;, PCA(n_components=32)),\n",
              "                (&#x27;gradientboostingclassifier&#x27;,\n",
              "                 GradientBoostingClassifier(verbose=1))])</pre><b>In a Jupyter environment, please rerun this cell to show the HTML representation or trust the notebook. <br />On GitHub, the HTML representation is unable to render, please try loading this page with nbviewer.org.</b></div><div class=\"sk-container\" hidden><div class=\"sk-item sk-dashed-wrapped\"><div class=\"sk-label-container\"><div class=\"sk-label sk-toggleable\"><input class=\"sk-toggleable__control sk-hidden--visually\" id=\"sk-estimator-id-5\" type=\"checkbox\" ><label for=\"sk-estimator-id-5\" class=\"sk-toggleable__label sk-toggleable__label-arrow\">Pipeline</label><div class=\"sk-toggleable__content\"><pre>Pipeline(steps=[(&#x27;standardscaler&#x27;, StandardScaler()),\n",
              "                (&#x27;pca&#x27;, PCA(n_components=32)),\n",
              "                (&#x27;gradientboostingclassifier&#x27;,\n",
              "                 GradientBoostingClassifier(verbose=1))])</pre></div></div></div><div class=\"sk-serial\"><div class=\"sk-item\"><div class=\"sk-estimator sk-toggleable\"><input class=\"sk-toggleable__control sk-hidden--visually\" id=\"sk-estimator-id-6\" type=\"checkbox\" ><label for=\"sk-estimator-id-6\" class=\"sk-toggleable__label sk-toggleable__label-arrow\">StandardScaler</label><div class=\"sk-toggleable__content\"><pre>StandardScaler()</pre></div></div></div><div class=\"sk-item\"><div class=\"sk-estimator sk-toggleable\"><input class=\"sk-toggleable__control sk-hidden--visually\" id=\"sk-estimator-id-7\" type=\"checkbox\" ><label for=\"sk-estimator-id-7\" class=\"sk-toggleable__label sk-toggleable__label-arrow\">PCA</label><div class=\"sk-toggleable__content\"><pre>PCA(n_components=32)</pre></div></div></div><div class=\"sk-item\"><div class=\"sk-estimator sk-toggleable\"><input class=\"sk-toggleable__control sk-hidden--visually\" id=\"sk-estimator-id-8\" type=\"checkbox\" ><label for=\"sk-estimator-id-8\" class=\"sk-toggleable__label sk-toggleable__label-arrow\">GradientBoostingClassifier</label><div class=\"sk-toggleable__content\"><pre>GradientBoostingClassifier(verbose=1)</pre></div></div></div></div></div></div></div>"
            ],
            "text/plain": [
              "Pipeline(steps=[('standardscaler', StandardScaler()),\n",
              "                ('pca', PCA(n_components=32)),\n",
              "                ('gradientboostingclassifier',\n",
              "                 GradientBoostingClassifier(verbose=1))])"
            ]
          },
          "execution_count": 31,
          "metadata": {},
          "output_type": "execute_result"
        }
      ],
      "source": [
        "model = make_pipeline(\n",
        "    StandardScaler(), \n",
        "    PCA(n_components=32), \n",
        "    GradientBoostingClassifier(n_estimators=100, max_depth=3, verbose=1)\n",
        ")\n",
        "weight = np.ones(train_label.shape[0])\n",
        "weight[train_label != 0] = (train_label == 0).sum() / (train_label != 0).sum()\n",
        "model.fit(\n",
        "    v_train_ts, \n",
        "    train_label, \n",
        "    gradientboostingclassifier__sample_weight=weight\n",
        ")"
      ]
    },
    {
      "cell_type": "markdown",
      "id": "oDZ7YMW9yPvq",
      "metadata": {
        "id": "oDZ7YMW9yPvq"
      },
      "source": [
        "### Part 2. Testing procedure"
      ]
    },
    {
      "cell_type": "markdown",
      "id": "wZcxybw7C3Uy",
      "metadata": {
        "id": "wZcxybw7C3Uy"
      },
      "source": [
        "Create a dataloader using the test mask for testing."
      ]
    },
    {
      "cell_type": "code",
      "execution_count": 32,
      "id": "EvGAcdiOs1Zc",
      "metadata": {
        "colab": {
          "base_uri": "https://localhost:8080/"
        },
        "id": "EvGAcdiOs1Zc",
        "outputId": "17683871-a775-45a0-b199-13ccbd41e1d0"
      },
      "outputs": [
        {
          "name": "stderr",
          "output_type": "stream",
          "text": [
            "Creating sequence of samples: 100%|██████████| 105/105 [00:00<00:00, 573.93it/s]\n"
          ]
        },
        {
          "data": {
            "text/plain": [
              "((19950, 10, 52), (19950,), (19950,))"
            ]
          },
          "execution_count": 32,
          "metadata": {},
          "output_type": "execute_result"
        }
      ],
      "source": [
        "test_dl = FDDDataloader(\n",
        "    dataframe=small_tep.df,\n",
        "    labels=small_tep.labels,\n",
        "    mask=small_tep.test_mask,\n",
        "    window_size=10, \n",
        "    step_size=5, \n",
        ")\n",
        "for test_ts, test_index, test_label in test_dl:\n",
        "    break\n",
        "test_ts.shape, test_index.shape, test_label.shape"
      ]
    },
    {
      "cell_type": "markdown",
      "id": "pHXSrSowDmMg",
      "metadata": {
        "id": "pHXSrSowDmMg"
      },
      "source": [
        "Generate predictions and index them to define an ordering of rows. It is important to calculate detection delay metrics."
      ]
    },
    {
      "cell_type": "code",
      "execution_count": 33,
      "id": "NQYI6M7bteAQ",
      "metadata": {
        "id": "NQYI6M7bteAQ"
      },
      "outputs": [],
      "source": [
        "v_test_ts = test_ts.reshape(test_ts.shape[0], -1)\n",
        "preds = model.predict(v_test_ts)\n",
        "preds = pd.Series(preds, index=test_index, name='labels', dtype=int)"
      ]
    },
    {
      "cell_type": "markdown",
      "id": "CkI4DGi2DoC-",
      "metadata": {
        "id": "CkI4DGi2DoC-"
      },
      "source": [
        "Evaluate the model using `FDDEvaluator`. `evaluate` method returns a dictionary of metrics, while `print_metrics` print them."
      ]
    },
    {
      "cell_type": "code",
      "execution_count": 34,
      "id": "WBOibPhYJULj",
      "metadata": {
        "colab": {
          "base_uri": "https://localhost:8080/"
        },
        "id": "WBOibPhYJULj",
        "outputId": "5821f578-03ab-421b-eff4-6b22db9c5a89"
      },
      "outputs": [
        {
          "name": "stdout",
          "output_type": "stream",
          "text": [
            "FDD metrics\n",
            "-----------------\n",
            "TPR/FPR:\n",
            "    Fault 01: 0.9648/0.0002\n",
            "    Fault 02: 0.9761/0.0005\n",
            "    Fault 03: 0.0075/0.0010\n",
            "    Fault 04: 0.6000/0.0025\n",
            "    Fault 05: 0.8113/0.0180\n",
            "    Fault 06: 0.9774/0.0000\n",
            "    Fault 07: 0.9736/0.0000\n",
            "    Fault 08: 0.7296/0.0054\n",
            "    Fault 09: 0.0013/0.0111\n",
            "    Fault 10: 0.1648/0.0067\n",
            "    Fault 11: 0.0440/0.0007\n",
            "    Fault 12: 0.5069/0.0052\n",
            "    Fault 13: 0.7220/0.0054\n",
            "    Fault 14: 0.9874/0.0000\n",
            "    Fault 15: 0.0101/0.0121\n",
            "    Fault 16: 0.0164/0.0002\n",
            "    Fault 17: 0.7774/0.0104\n",
            "    Fault 18: 0.8428/0.0002\n",
            "    Fault 19: 0.0088/0.0010\n",
            "    Fault 20: 0.3258/0.0020\n",
            "Detection TPR: 0.6455\n",
            "Detection FPR: 0.0827\n",
            "Average Detection Delay (ADD): 169.25\n",
            "Total Correct Diagnosis Rate (Total CDR): 0.8092\n",
            "\n",
            "Clustering metrics\n",
            "-----------------\n",
            "Adjusted Rand Index (ARI): 0.2850\n",
            "Normalized Mutual Information (NMI): 0.5907\n",
            "Unsupervised Clustering Accuracy (ACC): 0.6034\n"
          ]
        }
      ],
      "source": [
        "evaluator = FDDEvaluator(\n",
        "    step_size=test_dl.step_size\n",
        ")\n",
        "evaluator.print_metrics(test_label, preds)"
      ]
    },
    {
      "cell_type": "markdown",
      "id": "-Jg72h3Tav7m",
      "metadata": {
        "id": "-Jg72h3Tav7m"
      },
      "source": [
        "### Part 3. Template for single-batch training and testing"
      ]
    },
    {
      "cell_type": "markdown",
      "id": "XMLTw5xQcDJw",
      "metadata": {
        "id": "XMLTw5xQcDJw"
      },
      "source": [
        "Here is the shortest possible template for single-batch training and testing a model. Copy-paste and modify."
      ]
    },
    {
      "cell_type": "markdown",
      "id": "EH0-h55AbPn_",
      "metadata": {
        "id": "EH0-h55AbPn_"
      },
      "source": [
        "```python\n",
        "small_tep = FDDDataset(name='small_tep')\n",
        "train_dl = FDDDataloader(\n",
        "    dataframe=small_tep.df,\n",
        "    labels=small_tep.labels,\n",
        "    mask=small_tep.train_mask,\n",
        "    window_size=10,\n",
        "    step_size=5,\n",
        "    minibatch_training=False,\n",
        ")\n",
        "for train_ts, train_index, train_label in train_dl:\n",
        "    break\n",
        "# model = ... define and train your model\n",
        "test_dl = FDDDataloader(\n",
        "    dataframe=small_tep.df,\n",
        "    labels=small_tep.labels,\n",
        "    mask=small_tep.test_mask,\n",
        "    window_size=10, \n",
        "    step_size=5,\n",
        "    minibatch_training=False\n",
        ")\n",
        "for test_ts, test_index, test_label in test_dl:\n",
        "    break\n",
        "# preds = ... generate predictions\n",
        "preds = pd.Series(pred, index=test_index, dtype=int)\n",
        "evaluator = FDDEvaluator(\n",
        "    step_size=test_dl.step_size\n",
        ")\n",
        "metrics = evaluator.evaluate(test_label, preds)\n",
        "# store metrics\n",
        "```"
      ]
    },
    {
      "cell_type": "markdown",
      "id": "I7TXeoC9xRF2",
      "metadata": {
        "id": "I7TXeoC9xRF2"
      },
      "source": [
        "### Part 4. Template for mini-batch training and testing"
      ]
    },
    {
      "cell_type": "markdown",
      "id": "ReRabIGVx2vo",
      "metadata": {
        "id": "ReRabIGVx2vo"
      },
      "source": [
        "Here is the shortest possible template for mini-batch training and testing a model. Copy-paste and modify."
      ]
    },
    {
      "cell_type": "markdown",
      "id": "kgA26W0LxX5j",
      "metadata": {
        "id": "kgA26W0LxX5j"
      },
      "source": [
        "```python\n",
        "small_tep = FDDDataset(name='small_tep')\n",
        "train_dl = FDDDataloader(\n",
        "    dataframe=small_tep.df,\n",
        "    labels=small_tep.labels,\n",
        "    mask=small_tep.train_mask,\n",
        "    window_size=10,\n",
        "    step_size=5,\n",
        "    minibatch_training=True,\n",
        "    batch_size=128,\n",
        "    shuffle=True\n",
        ")\n",
        "# model = ... define your model\n",
        "for train_ts, train_index, train_label in train_dl:\n",
        "    # train your model\n",
        "test_dl = FDDDataloader(\n",
        "    dataframe=small_tep.df,\n",
        "    labels=small_tep.labels,\n",
        "    mask=small_tep.test_mask,\n",
        "    window_size=10, \n",
        "    step_size=5, \n",
        "    minibatch_training=True,\n",
        "    batch_size=128,\n",
        ")\n",
        "preds = []\n",
        "labels = []\n",
        "for test_ts, test_index, test_label in test_dl:\n",
        "    # pred = ... generate predictions\n",
        "    preds.append(pd.Series(pred, index=test_index, dtype=int))\n",
        "    labels.append(test_label)\n",
        "preds = pd.concat(preds)\n",
        "test_label = pd.concat(labels)\n",
        "evaluator = FDDEvaluator(\n",
        "    step_size=test_dl.step_size\n",
        ")\n",
        "metrics = evaluator.evaluate(test_labels, preds)\n",
        "# store metrics\n",
        "```"
      ]
    },
    {
      "cell_type": "code",
      "execution_count": 34,
      "id": "-gYbh6WLyEaX",
      "metadata": {
        "id": "-gYbh6WLyEaX"
      },
      "outputs": [],
      "source": []
    }
  ],
  "metadata": {
    "colab": {
      "provenance": []
    },
    "kernelspec": {
      "display_name": "Python 3",
      "language": "python",
      "name": "python3"
    },
    "language_info": {
      "codemirror_mode": {
        "name": "ipython",
        "version": 3
      },
      "file_extension": ".py",
      "mimetype": "text/x-python",
      "name": "python",
      "nbconvert_exporter": "python",
      "pygments_lexer": "ipython3",
      "version": "3.8.8"
    }
  },
  "nbformat": 4,
  "nbformat_minor": 5
}
